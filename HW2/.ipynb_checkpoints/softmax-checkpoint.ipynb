{
 "cells": [
  {
   "cell_type": "markdown",
   "metadata": {},
   "source": [
    "## This is the softmax workbook for ECE 239AS Assignment #2\n",
    "\n",
    "Please follow the notebook linearly to implement a softmax classifier.\n",
    "\n",
    "Please print out the workbook entirely when completed.\n",
    "\n",
    "We thank Serena Yeung & Justin Johnson for permission to use code written for the CS 231n class (cs231n.stanford.edu).  These are the functions in the cs231n folders and code in the jupyer notebook to preprocess and show the images.  The classifiers used are based off of code prepared for CS 231n as well.\n",
    "\n",
    "The goal of this workbook is to give you experience with training a softmax classifier."
   ]
  },
  {
   "cell_type": "code",
   "execution_count": 1,
   "metadata": {
    "collapsed": true
   },
   "outputs": [],
   "source": [
    "import random\n",
    "import numpy as np\n",
    "from cs231n.data_utils import load_CIFAR10\n",
    "import matplotlib.pyplot as plt\n",
    "\n",
    "%matplotlib inline\n",
    "%load_ext autoreload\n",
    "%autoreload 2"
   ]
  },
  {
   "cell_type": "code",
   "execution_count": 2,
   "metadata": {
    "scrolled": true
   },
   "outputs": [
    {
     "name": "stdout",
     "output_type": "stream",
     "text": [
      "Train data shape:  (49000, 3073)\n",
      "Train labels shape:  (49000,)\n",
      "Validation data shape:  (1000, 3073)\n",
      "Validation labels shape:  (1000,)\n",
      "Test data shape:  (1000, 3073)\n",
      "Test labels shape:  (1000,)\n",
      "dev data shape:  (500, 3073)\n",
      "dev labels shape:  (500,)\n"
     ]
    }
   ],
   "source": [
    "def get_CIFAR10_data(num_training=49000, num_validation=1000, num_test=1000, num_dev=500):\n",
    "    \"\"\"\n",
    "    Load the CIFAR-10 dataset from disk and perform preprocessing to prepare\n",
    "    it for the linear classifier. These are the same steps as we used for the\n",
    "    SVM, but condensed to a single function.  \n",
    "    \"\"\"\n",
    "    # Load the raw CIFAR-10 data\n",
    "    cifar10_dir = 'cifar-10-batches-py'\n",
    "    X_train, y_train, X_test, y_test = load_CIFAR10(cifar10_dir)\n",
    "    \n",
    "    # subsample the data\n",
    "    mask = list(range(num_training, num_training + num_validation))\n",
    "    X_val = X_train[mask]\n",
    "    y_val = y_train[mask]\n",
    "    mask = list(range(num_training))\n",
    "    X_train = X_train[mask]\n",
    "    y_train = y_train[mask]\n",
    "    mask = list(range(num_test))\n",
    "    X_test = X_test[mask]\n",
    "    y_test = y_test[mask]\n",
    "    mask = np.random.choice(num_training, num_dev, replace=False)\n",
    "    X_dev = X_train[mask]\n",
    "    y_dev = y_train[mask]\n",
    "    \n",
    "    # Preprocessing: reshape the image data into rows\n",
    "    X_train = np.reshape(X_train, (X_train.shape[0], -1))\n",
    "    X_val = np.reshape(X_val, (X_val.shape[0], -1))\n",
    "    X_test = np.reshape(X_test, (X_test.shape[0], -1))\n",
    "    X_dev = np.reshape(X_dev, (X_dev.shape[0], -1))\n",
    "    \n",
    "    # Normalize the data: subtract the mean image\n",
    "    mean_image = np.mean(X_train, axis = 0)\n",
    "    X_train -= mean_image\n",
    "    X_val -= mean_image\n",
    "    X_test -= mean_image\n",
    "    X_dev -= mean_image\n",
    "    \n",
    "    # add bias dimension and transform into columns\n",
    "    X_train = np.hstack([X_train, np.ones((X_train.shape[0], 1))])\n",
    "    X_val = np.hstack([X_val, np.ones((X_val.shape[0], 1))])\n",
    "    X_test = np.hstack([X_test, np.ones((X_test.shape[0], 1))])\n",
    "    X_dev = np.hstack([X_dev, np.ones((X_dev.shape[0], 1))])\n",
    "    \n",
    "    return X_train, y_train, X_val, y_val, X_test, y_test, X_dev, y_dev\n",
    "\n",
    "\n",
    "# Invoke the above function to get our data.\n",
    "X_train, y_train, X_val, y_val, X_test, y_test, X_dev, y_dev = get_CIFAR10_data()\n",
    "print('Train data shape: ', X_train.shape)\n",
    "print('Train labels shape: ', y_train.shape)\n",
    "print('Validation data shape: ', X_val.shape)\n",
    "print('Validation labels shape: ', y_val.shape)\n",
    "print('Test data shape: ', X_test.shape)\n",
    "print('Test labels shape: ', y_test.shape)\n",
    "print('dev data shape: ', X_dev.shape)\n",
    "print('dev labels shape: ', y_dev.shape)"
   ]
  },
  {
   "cell_type": "markdown",
   "metadata": {},
   "source": [
    "## Training a softmax classifier.\n",
    "\n",
    "The following cells will take you through building a softmax classifier.  You will implement its loss function, then subsequently train it with gradient descent.  Finally, you will choose the learning rate of gradient descent to optimize its classification performance."
   ]
  },
  {
   "cell_type": "code",
   "execution_count": 3,
   "metadata": {
    "collapsed": true
   },
   "outputs": [],
   "source": [
    "from nndl import Softmax"
   ]
  },
  {
   "cell_type": "code",
   "execution_count": 4,
   "metadata": {
    "collapsed": true
   },
   "outputs": [],
   "source": [
    "# Declare an instance of the Softmax class.  \n",
    "# Weights are initialized to a random value.\n",
    "# Note, to keep people's first solutions consistent, we are going to use a random seed.\n",
    "\n",
    "np.random.seed(1)\n",
    "\n",
    "num_classes = len(np.unique(y_train))\n",
    "num_features = X_train.shape[1]\n",
    "\n",
    "softmax = Softmax(dims=[num_classes, num_features])"
   ]
  },
  {
   "cell_type": "markdown",
   "metadata": {},
   "source": [
    "#### Softmax loss"
   ]
  },
  {
   "cell_type": "code",
   "execution_count": 6,
   "metadata": {
    "collapsed": true
   },
   "outputs": [],
   "source": [
    "## Implement the loss function of the softmax using a for loop over\n",
    "#  the number of examples\n",
    "\n",
    "loss = softmax.loss(X_train, y_train)"
   ]
  },
  {
   "cell_type": "code",
   "execution_count": 7,
   "metadata": {},
   "outputs": [
    {
     "name": "stdout",
     "output_type": "stream",
     "text": [
      "2.3277607028\n"
     ]
    }
   ],
   "source": [
    "print(loss)"
   ]
  },
  {
   "cell_type": "markdown",
   "metadata": {},
   "source": [
    "## Question: \n",
    "\n",
    "You'll notice the loss returned by the softmax is about 2.3 (if implemented correctly).  Why does this value make sense?"
   ]
  },
  {
   "cell_type": "markdown",
   "metadata": {},
   "source": [
    "## Answer:\n",
    "\n",
    "Because we have 10 classes in this case. Before training this model, the probability of every class to be choosen is the same. That is 1/10. Hence by using loss function, the loss will be -log(1/10) which is 2.3."
   ]
  },
  {
   "cell_type": "markdown",
   "metadata": {},
   "source": [
    "#### Softmax gradient"
   ]
  },
  {
   "cell_type": "code",
   "execution_count": 8,
   "metadata": {
    "scrolled": false
   },
   "outputs": [
    {
     "name": "stdout",
     "output_type": "stream",
     "text": [
      "numerical: 0.323420 analytic: 0.323420, relative error: 4.340850e-08\n",
      "numerical: 2.109268 analytic: 2.109267, relative error: 1.393414e-08\n",
      "numerical: -0.765416 analytic: -0.765417, relative error: 2.377212e-08\n",
      "numerical: 2.323441 analytic: 2.323441, relative error: 1.049916e-08\n",
      "numerical: 1.318364 analytic: 1.318364, relative error: 4.979324e-08\n",
      "numerical: 0.738926 analytic: 0.738925, relative error: 5.682309e-08\n",
      "numerical: -0.739583 analytic: -0.739583, relative error: 5.397605e-08\n",
      "numerical: 0.292931 analytic: 0.292931, relative error: 7.089985e-08\n",
      "numerical: 0.903963 analytic: 0.903963, relative error: 3.482681e-10\n",
      "numerical: -2.642383 analytic: -2.642383, relative error: 1.297226e-08\n"
     ]
    }
   ],
   "source": [
    "## Calculate the gradient of the softmax loss in the Softmax class.\n",
    "# For convenience, we'll write one function that computes the loss\n",
    "#   and gradient together, softmax.loss_and_grad(X, y)\n",
    "# You may copy and paste your loss code from softmax.loss() here, and then\n",
    "#   use the appropriate intermediate values to calculate the gradient.\n",
    "\n",
    "loss, grad = softmax.loss_and_grad(X_dev,y_dev)\n",
    "\n",
    "# Compare your gradient to a gradient check we wrote. \n",
    "# You should see relative gradient errors on the order of 1e-07 or less if you implemented the gradient correctly.\n",
    "softmax.grad_check_sparse(X_dev, y_dev, grad)"
   ]
  },
  {
   "cell_type": "markdown",
   "metadata": {},
   "source": [
    "## A vectorized version of Softmax\n",
    "\n",
    "To speed things up, we will vectorize the loss and gradient calculations.  This will be helpful for stochastic gradient descent."
   ]
  },
  {
   "cell_type": "code",
   "execution_count": 9,
   "metadata": {
    "collapsed": true
   },
   "outputs": [],
   "source": [
    "import time"
   ]
  },
  {
   "cell_type": "code",
   "execution_count": 22,
   "metadata": {},
   "outputs": [
    {
     "name": "stdout",
     "output_type": "stream",
     "text": [
      "Normal loss / grad_norm: 2.2611884461603817 / 256.55325524779994 computed in 0.04638171195983887s\n",
      "Vectorized loss / grad: 2.261188446160382 / 256.55325524779994 computed in 0.004354953765869141s\n",
      "difference in loss / grad: -4.440892098500626e-16 /2.3184902617331804e-13 \n"
     ]
    }
   ],
   "source": [
    "## Implement softmax.fast_loss_and_grad which calculates the loss and gradient\n",
    "#    WITHOUT using any for loops.  \n",
    "\n",
    "# Standard loss and gradient\n",
    "tic = time.time()\n",
    "loss, grad = softmax.loss_and_grad(X_dev, y_dev)\n",
    "toc = time.time()\n",
    "print('Normal loss / grad_norm: {} / {} computed in {}s'.format(loss, np.linalg.norm(grad, 'fro'), toc - tic))\n",
    "\n",
    "tic = time.time()\n",
    "loss_vectorized, grad_vectorized = softmax.fast_loss_and_grad(X_dev, y_dev)\n",
    "toc = time.time()\n",
    "print('Vectorized loss / grad: {} / {} computed in {}s'.format(loss_vectorized, np.linalg.norm(grad_vectorized, 'fro'), toc - tic))\n",
    "\n",
    "# The losses should match but your vectorized implementation should be much faster.\n",
    "print('difference in loss / grad: {} /{} '.format(loss - loss_vectorized, np.linalg.norm(grad - grad_vectorized)))\n",
    "\n",
    "# You should notice a speedup with the same output."
   ]
  },
  {
   "cell_type": "markdown",
   "metadata": {},
   "source": [
    "## Stochastic gradient descent\n",
    "\n",
    "We now implement stochastic gradient descent.  This uses the same principles of gradient descent we discussed in class, however, it calculates the gradient by only using examples from a subset of the training set (so each gradient calculation is faster)."
   ]
  },
  {
   "cell_type": "markdown",
   "metadata": {},
   "source": [
    "## Question:\n",
    "\n",
    "How should the softmax gradient descent training step differ from the svm training step, if at all?"
   ]
  },
  {
   "cell_type": "markdown",
   "metadata": {},
   "source": [
    "## Answer:\n",
    "\n",
    "The way the softmax gradient training step and that of svm is the same. Both use the idea of stochastic gradient descent."
   ]
  },
  {
   "cell_type": "code",
   "execution_count": 15,
   "metadata": {
    "scrolled": false
   },
   "outputs": [
    {
     "name": "stdout",
     "output_type": "stream",
     "text": [
      "iteration 0 / 1500: loss 2.336592660663754\n",
      "iteration 100 / 1500: loss 2.055722261347679\n",
      "iteration 200 / 1500: loss 2.0357745120763413\n",
      "iteration 300 / 1500: loss 1.9813348165594475\n",
      "iteration 400 / 1500: loss 1.9583142444066215\n",
      "iteration 500 / 1500: loss 1.8622653073105446\n",
      "iteration 600 / 1500: loss 1.8532611454033445\n",
      "iteration 700 / 1500: loss 1.835306222323703\n",
      "iteration 800 / 1500: loss 1.829389246837283\n",
      "iteration 900 / 1500: loss 1.8992158530300574\n",
      "iteration 1000 / 1500: loss 1.9783503540803116\n",
      "iteration 1100 / 1500: loss 1.8470797913059949\n",
      "iteration 1200 / 1500: loss 1.8411450268693184\n",
      "iteration 1300 / 1500: loss 1.7910402495385682\n",
      "iteration 1400 / 1500: loss 1.8705803029813195\n",
      "That took 3.0658533573150635s\n"
     ]
    },
    {
     "data": {
      "image/png": "[encoded data removed]",
      "text/plain": [
       "<matplotlib.figure.Figure at 0x1111971d0>"
      ]
     },
     "metadata": {},
     "output_type": "display_data"
    }
   ],
   "source": [
    "# Implement softmax.train() by filling in the code to extract a batch of data\n",
    "# and perform the gradient step.\n",
    "import time\n",
    "\n",
    "\n",
    "tic = time.time()\n",
    "loss_hist = softmax.train(X_train, y_train, learning_rate=1e-7,\n",
    "                      num_iters=1500, verbose=True)\n",
    "toc = time.time()\n",
    "print('That took {}s'.format(toc - tic))\n",
    "\n",
    "plt.plot(loss_hist)\n",
    "plt.xlabel('Iteration number')\n",
    "plt.ylabel('Loss value')\n",
    "plt.show()"
   ]
  },
  {
   "cell_type": "markdown",
   "metadata": {},
   "source": [
    "### Evaluate the performance of the trained softmax classifier on the validation data."
   ]
  },
  {
   "cell_type": "code",
   "execution_count": 16,
   "metadata": {},
   "outputs": [
    {
     "name": "stdout",
     "output_type": "stream",
     "text": [
      "training accuracy: 0.3811428571428571\n",
      "validation accuracy: 0.398\n"
     ]
    }
   ],
   "source": [
    "## Implement softmax.predict() and use it to compute the training and testing error.\n",
    "\n",
    "y_train_pred = softmax.predict(X_train)\n",
    "print('training accuracy: {}'.format(np.mean(np.equal(y_train,y_train_pred), )))\n",
    "y_val_pred = softmax.predict(X_val)\n",
    "print('validation accuracy: {}'.format(np.mean(np.equal(y_val, y_val_pred)), ))"
   ]
  },
  {
   "cell_type": "markdown",
   "metadata": {},
   "source": [
    "## Optimize the softmax classifier\n",
    "\n",
    "You may copy and paste your optimization code from the SVM here."
   ]
  },
  {
   "cell_type": "code",
   "execution_count": 17,
   "metadata": {},
   "outputs": [
    {
     "data": {
      "text/plain": [
       "2.2204460492503131e-16"
      ]
     },
     "execution_count": 17,
     "metadata": {},
     "output_type": "execute_result"
    }
   ],
   "source": [
    "np.finfo(float).eps"
   ]
  },
  {
   "cell_type": "code",
   "execution_count": 21,
   "metadata": {
    "scrolled": false
   },
   "outputs": [
    {
     "name": "stdout",
     "output_type": "stream",
     "text": [
      "iteration 0 / 1500: loss 2.2888564871800297\n",
      "iteration 100 / 1500: loss 33.048102666745365\n",
      "iteration 200 / 1500: loss 16.46821997275276\n",
      "iteration 300 / 1500: loss 25.100869938358905\n",
      "iteration 400 / 1500: loss 38.079963013889056\n",
      "iteration 500 / 1500: loss 17.3701366375199\n",
      "iteration 600 / 1500: loss 27.732217308889975\n",
      "iteration 700 / 1500: loss 39.0332938179829\n",
      "iteration 800 / 1500: loss 25.071663716943117\n",
      "iteration 900 / 1500: loss 28.27916388409148\n",
      "iteration 1000 / 1500: loss 26.462798316540795\n",
      "iteration 1100 / 1500: loss 29.336807248922064\n",
      "iteration 1200 / 1500: loss 28.50389380725291\n",
      "iteration 1300 / 1500: loss 34.867229682167284\n",
      "iteration 1400 / 1500: loss 38.90287158642168\n",
      "learning_rate: 0.0001 training accuracy: 0.3006938775510204\n",
      "learning_rate: 0.0001 validation accuracy: 0.291\n",
      "iteration 0 / 1500: loss 2.3193958424912204\n",
      "iteration 100 / 1500: loss 2.7958669979809248\n",
      "iteration 200 / 1500: loss 3.3521150446484773\n",
      "iteration 300 / 1500: loss 2.4001322421375217\n",
      "iteration 400 / 1500: loss 3.1167136752231897\n",
      "iteration 500 / 1500: loss 2.5012723865000246\n",
      "iteration 600 / 1500: loss 4.338245057483891\n",
      "iteration 700 / 1500: loss 2.443815830266712\n",
      "iteration 800 / 1500: loss 2.003625646113254\n",
      "iteration 900 / 1500: loss 3.1573707708086274\n",
      "iteration 1000 / 1500: loss 2.3278322274227974\n",
      "iteration 1100 / 1500: loss 2.3351037967854893\n",
      "iteration 1200 / 1500: loss 2.278294438880007\n",
      "iteration 1300 / 1500: loss 2.838200876138562\n",
      "iteration 1400 / 1500: loss 3.160178911078196\n",
      "learning_rate: 1e-05 training accuracy: 0.31873469387755105\n",
      "learning_rate: 1e-05 validation accuracy: 0.288\n",
      "iteration 0 / 1500: loss 2.340555837844859\n",
      "iteration 100 / 1500: loss 1.8273894854345532\n",
      "iteration 200 / 1500: loss 1.7075885024618633\n",
      "iteration 300 / 1500: loss 1.7394053260499778\n",
      "iteration 400 / 1500: loss 1.847613803870957\n",
      "iteration 500 / 1500: loss 1.785075236919551\n",
      "iteration 600 / 1500: loss 1.6944376471546345\n",
      "iteration 700 / 1500: loss 1.7468805790394668\n",
      "iteration 800 / 1500: loss 1.6786762193599531\n",
      "iteration 900 / 1500: loss 1.7738606000131554\n",
      "iteration 1000 / 1500: loss 1.7175673062127534\n",
      "iteration 1100 / 1500: loss 1.6333217509569693\n",
      "iteration 1200 / 1500: loss 1.714796601474586\n",
      "iteration 1300 / 1500: loss 1.5966571409812622\n",
      "iteration 1400 / 1500: loss 1.796877729372034\n",
      "learning_rate: 1e-06 training accuracy: 0.4215510204081633\n",
      "learning_rate: 1e-06 validation accuracy: 0.403\n",
      "iteration 0 / 1500: loss 2.373376401593462\n",
      "iteration 100 / 1500: loss 2.0440373663433116\n",
      "iteration 200 / 1500: loss 1.9896305211253664\n",
      "iteration 300 / 1500: loss 1.9760502823881314\n",
      "iteration 400 / 1500: loss 1.890116235211377\n",
      "iteration 500 / 1500: loss 1.9562073168577803\n",
      "iteration 600 / 1500: loss 1.8845209778292746\n",
      "iteration 700 / 1500: loss 1.8331865726610732\n",
      "iteration 800 / 1500: loss 1.8228906796247122\n",
      "iteration 900 / 1500: loss 1.8268067660228664\n",
      "iteration 1000 / 1500: loss 1.806922628396179\n",
      "iteration 1100 / 1500: loss 1.7622499432592418\n",
      "iteration 1200 / 1500: loss 1.7925869557087752\n",
      "iteration 1300 / 1500: loss 1.8258958712618079\n",
      "iteration 1400 / 1500: loss 1.7595333056912412\n",
      "learning_rate: 1e-07 training accuracy: 0.382530612244898\n",
      "learning_rate: 1e-07 validation accuracy: 0.394\n",
      "iteration 0 / 1500: loss 2.3746794685487482\n",
      "iteration 100 / 1500: loss 2.24741547190601\n",
      "iteration 200 / 1500: loss 2.2345753278649805\n",
      "iteration 300 / 1500: loss 2.1501536411883335\n",
      "iteration 400 / 1500: loss 2.13948351972185\n",
      "iteration 500 / 1500: loss 2.110029318287606\n",
      "iteration 600 / 1500: loss 2.140012608412966\n",
      "iteration 700 / 1500: loss 2.134568030649806\n",
      "iteration 800 / 1500: loss 2.0239545288085377\n",
      "iteration 900 / 1500: loss 2.0577949309379266\n",
      "iteration 1000 / 1500: loss 1.9581015071649717\n",
      "iteration 1100 / 1500: loss 2.079269156379364\n",
      "iteration 1200 / 1500: loss 2.09537294634235\n",
      "iteration 1300 / 1500: loss 2.1184080715120426\n",
      "iteration 1400 / 1500: loss 1.9932848573922808\n",
      "learning_rate: 1e-08 training accuracy: 0.2939591836734694\n",
      "learning_rate: 1e-08 validation accuracy: 0.319\n",
      "iteration 0 / 1500: loss 2.357655380627855\n",
      "iteration 100 / 1500: loss 2.3330505218748336\n",
      "iteration 200 / 1500: loss 2.2705398503629244\n",
      "iteration 300 / 1500: loss 2.3007071173430655\n",
      "iteration 400 / 1500: loss 2.2911486443847426\n",
      "iteration 500 / 1500: loss 2.288508984543592\n",
      "iteration 600 / 1500: loss 2.2833701263341184\n",
      "iteration 700 / 1500: loss 2.2634148269095142\n",
      "iteration 800 / 1500: loss 2.268346801457455\n",
      "iteration 900 / 1500: loss 2.257932142290223\n",
      "iteration 1000 / 1500: loss 2.2789923328353496\n",
      "iteration 1100 / 1500: loss 2.2486640139637317\n",
      "iteration 1200 / 1500: loss 2.266767770250993\n",
      "iteration 1300 / 1500: loss 2.246205363895815\n",
      "iteration 1400 / 1500: loss 2.2507304888910835\n",
      "learning_rate: 1e-09 training accuracy: 0.16753061224489796\n",
      "learning_rate: 1e-09 validation accuracy: 0.176\n"
     ]
    }
   ],
   "source": [
    "# ================================================================ #\n",
    "# YOUR CODE HERE:\n",
    "#   Train the Softmax classifier with different learning rates and \n",
    "#     evaluate on the validation data.\n",
    "#   Report:\n",
    "#     - The best learning rate of the ones you tested.  \n",
    "#     - The best validation accuracy corresponding to the best validation error.\n",
    "#\n",
    "#   Select the SVM that achieved the best validation error and report\n",
    "#     its error rate on the test set.\n",
    "# ================================================================ #\n",
    "learning_rates = [1e-4, 1e-5, 1e-6, 1e-7, 1e-8, 1e-9]\n",
    "\n",
    "for learning in learning_rates:\n",
    "    softmax.train(X_train, y_train, learning_rate=learning, num_iters=1500, verbose=True)\n",
    "    y_train_pred = softmax.predict(X_train)\n",
    "    print('learning_rate: {} training accuracy: {}'.format(learning, np.mean(np.equal(y_train,y_train_pred), )))\n",
    "    y_val_pred = softmax.predict(X_val)\n",
    "    print('learning_rate: {} validation accuracy: {}'.format(learning, np.mean(np.equal(y_val, y_val_pred)), ))\n",
    "\n",
    "\n",
    "# ================================================================ #\n",
    "# END YOUR CODE HERE\n",
    "# ================================================================ #\n"
   ]
  },
  {
   "cell_type": "markdown",
   "metadata": {},
   "source": [
    "# The softmax.py is shown below"
   ]
  },
  {
   "cell_type": "code",
   "execution_count": null,
   "metadata": {
    "collapsed": true
   },
   "outputs": [],
   "source": [
    "import numpy as np\n",
    "\n",
    "class Softmax(object):\n",
    "\n",
    "  def __init__(self, dims=[10, 3073]):\n",
    "    self.init_weights(dims=dims)\n",
    "\n",
    "  def init_weights(self, dims):\n",
    "    \"\"\"\n",
    "\tInitializes the weight matrix of the Softmax classifier.  \n",
    "\tNote that it has shape (C, D) where C is the number of \n",
    "\tclasses and D is the feature size.\n",
    "\t\"\"\"\n",
    "    self.W = np.random.normal(size=dims) * 0.0001\n",
    "\n",
    "  def loss(self, X, y):\n",
    "    \"\"\"\n",
    "    Calculates the softmax loss.\n",
    "  \n",
    "    Inputs have dimension D, there are C classes, and we operate on minibatches\n",
    "    of N examples.\n",
    "  \n",
    "    Inputs:\n",
    "    - X: A numpy array of shape (N, D) containing a minibatch of data.\n",
    "    - y: A numpy array of shape (N,) containing training labels; y[i] = c means\n",
    "      that X[i] has label c, where 0 <= c < C.\n",
    "  \n",
    "    Returns a tuple of:\n",
    "    - loss as single float\n",
    "    \"\"\"\n",
    "\n",
    "    # Initialize the loss to zero.\n",
    "    loss = 0.0\n",
    "\n",
    "    # ================================================================ #\n",
    "    # YOUR CODE HERE:\n",
    "    #   Calculate the normalized softmax loss.  Store it as the variable loss.\n",
    "    #   (That is, calculate the sum of the losses of all the training \n",
    "    #   set margins, and then normalize the loss by the number of \n",
    "    #   training examples.)\n",
    "    # ================================================================ #\n",
    "    \n",
    "    N = X.shape[0]\n",
    "    loss = 0\n",
    "    \n",
    "    for i in range(N):\n",
    "        ax_i = self.W.dot(X[i])\n",
    "        loss -= ax_i[y[i]]\n",
    "        loss += np.log(np.sum(np.exp(ax_i)))\n",
    "    loss = loss/N\n",
    "    \n",
    "    return loss\n",
    "    pass\n",
    "    \n",
    "    # ================================================================ #\n",
    "    # END YOUR CODE HERE\n",
    "    # ================================================================ #\n",
    "\n",
    "    return loss\n",
    "\n",
    "  def loss_and_grad(self, X, y):\n",
    "    \"\"\"\n",
    "\tSame as self.loss(X, y), except that it also returns the gradient.\n",
    "\n",
    "\tOutput: grad -- a matrix of the same dimensions as W containing \n",
    "\t\tthe gradient of the loss with respect to W.\n",
    "\t\"\"\"\n",
    "\n",
    "    # Initialize the loss and gradient to zero.\n",
    "    loss = 0.0\n",
    "    grad = np.zeros_like(self.W)\n",
    "  \n",
    "    # ================================================================ #\n",
    "    # YOUR CODE HERE:\n",
    "    #   Calculate the softmax loss and the gradient. Store the gradient\n",
    "    #   as the variable grad.\n",
    "    # ================================================================ #\n",
    "    N = X.shape[0]\n",
    "    C = self.W.shape[0]\n",
    "    loss = 0\n",
    "    grad = np.zeros_like(self.W)\n",
    "    \n",
    "    for i in range(N):\n",
    "        ax_i = self.W.dot(X[i])\n",
    "        loss -= ax_i[y[i]]\n",
    "        sum_i = np.sum(np.exp(ax_i))\n",
    "        loss += np.log(sum_i)\n",
    "        \n",
    "        for j in range(C):\n",
    "            p = np.exp(ax_i[j])/sum_i\n",
    "            grad[j, :] += p * X[i]\n",
    "            if j == y[i]:\n",
    "                grad[j, :] -= X[i]\n",
    "\n",
    "    loss = loss/N\n",
    "    grad = grad/N    \n",
    "       \n",
    "    pass\n",
    "    \n",
    "    # ================================================================ #\n",
    "    # END YOUR CODE HERE\n",
    "    # ================================================================ #\n",
    "\n",
    "    return loss, grad\n",
    "\n",
    "  def grad_check_sparse(self, X, y, your_grad, num_checks=10, h=1e-5):\n",
    "    \"\"\"\n",
    "    sample a few random elements and only return numerical\n",
    "    in these dimensions.\n",
    "    \"\"\"\n",
    "  \n",
    "    for i in np.arange(num_checks):\n",
    "      ix = tuple([np.random.randint(m) for m in self.W.shape])\n",
    "  \n",
    "      oldval = self.W[ix]\n",
    "      self.W[ix] = oldval + h # increment by h\n",
    "      fxph = self.loss(X, y)\n",
    "      self.W[ix] = oldval - h # decrement by h\n",
    "      fxmh = self.loss(X,y) # evaluate f(x - h)\n",
    "      self.W[ix] = oldval # reset\n",
    "  \n",
    "      grad_numerical = (fxph - fxmh) / (2 * h)\n",
    "      grad_analytic = your_grad[ix]\n",
    "      rel_error = abs(grad_numerical - grad_analytic) / (abs(grad_numerical) + abs(grad_analytic))\n",
    "      print('numerical: %f analytic: %f, relative error: %e' % (grad_numerical, grad_analytic, rel_error))\n",
    "\n",
    "  def fast_loss_and_grad(self, X, y):\n",
    "    \"\"\"\n",
    "    A vectorized implementation of loss_and_grad. It shares the same\n",
    "\tinputs and ouptuts as loss_and_grad.\n",
    "    \"\"\"\n",
    "    loss = 0.0\n",
    "    grad = np.zeros(self.W.shape) # initialize the gradient as zero\n",
    "  \n",
    "    # ================================================================ #\n",
    "    # YOUR CODE HERE:\n",
    "    #   Calculate the softmax loss and gradient WITHOUT any for loops.\n",
    "    # ================================================================ #\n",
    "    \n",
    "    A_x = np.dot(self.W, X.T)\n",
    "    \n",
    "    N = X.shape[0]\n",
    "    y_mat = np.zeros_like(A_x)\n",
    "    y_mat[y, range(N)] = 1   #the row that in y will be 1\n",
    "    \n",
    "    correct_wx = np.multiply(y_mat, A_x)\n",
    " \n",
    "    sums_wy = np.sum(correct_wx, axis=0) \n",
    "\n",
    "    exp_A_x = np.exp(A_x)\n",
    "    res = np.log(np.sum(exp_A_x, axis=0))\n",
    "    res -= sums_wy\n",
    "\n",
    "    loss = np.sum(res)\n",
    "\n",
    "    loss /= float(N)\n",
    "\n",
    "    ###grad \n",
    "\n",
    "    grad = exp_A_x / np.sum(exp_A_x, axis=0)\n",
    "    grad = np.dot(grad, X)\n",
    "    grad -= np.dot(y_mat, X)\n",
    "\n",
    "    grad /= float(N)  \n",
    "    \n",
    "    pass\n",
    "    \n",
    "    # ================================================================ #\n",
    "    # END YOUR CODE HERE\n",
    "    # ================================================================ #\n",
    "\n",
    "    return loss, grad\n",
    "\n",
    "  def train(self, X, y, learning_rate=1e-3, num_iters=100,\n",
    "            batch_size=200, verbose=False):\n",
    "    \"\"\"\n",
    "    Train this linear classifier using stochastic gradient descent.\n",
    "\n",
    "    Inputs:\n",
    "    - X: A numpy array of shape (N, D) containing training data; there are N\n",
    "      training samples each of dimension D.\n",
    "    - y: A numpy array of shape (N,) containing training labels; y[i] = c\n",
    "      means that X[i] has label 0 <= c < C for C classes.\n",
    "    - learning_rate: (float) learning rate for optimization.\n",
    "    - num_iters: (integer) number of steps to take when optimizing\n",
    "    - batch_size: (integer) number of training examples to use at each step.\n",
    "    - verbose: (boolean) If true, print progress during optimization.\n",
    "\n",
    "    Outputs:\n",
    "    A list containing the value of the loss function at each training iteration.\n",
    "    \"\"\"\n",
    "    num_train, dim = X.shape\n",
    "    num_classes = np.max(y) + 1 # assume y takes values 0...K-1 where K is number of classes\n",
    "\n",
    "    self.init_weights(dims=[np.max(y) + 1, X.shape[1]])\t# initializes the weights of self.W\n",
    "\n",
    "    # Run stochastic gradient descent to optimize W\n",
    "    loss_history = []\n",
    "\n",
    "    for it in np.arange(num_iters):\n",
    "      X_batch = None\n",
    "      y_batch = None\n",
    "\n",
    "      # ================================================================ #\n",
    "      # YOUR CODE HERE:\n",
    "      #   Sample batch_size elements from the training data for use in \n",
    "      #      gradient descent.  After sampling,\n",
    "      #     - X_batch should have shape: (dim, batch_size)\n",
    "      #     - y_batch should have shape: (batch_size,)\n",
    "      #   The indices should be randomly generated to reduce correlations\n",
    "      #   in the dataset.  Use np.random.choice.  It's okay to sample with\n",
    "      #   replacement.\n",
    "      # ================================================================ #\n",
    "\n",
    "      idx = np.random.choice(num_train, batch_size)\n",
    "      X_batch = X[idx]\n",
    "      y_batch = y[idx]\n",
    "\n",
    "      pass\n",
    "      # ================================================================ #\n",
    "      # END YOUR CODE HERE\n",
    "      # ================================================================ #\n",
    "\n",
    "      # evaluate loss and gradient\n",
    "      loss, grad = self.fast_loss_and_grad(X_batch, y_batch)\n",
    "      loss_history.append(loss)\n",
    "      \n",
    "      # ================================================================ #\n",
    "      # YOUR CODE HERE:\n",
    "      #   Update the parameters, self.W, with a gradient step \n",
    "      # ================================================================ #\n",
    "      \n",
    "      self.W -= learning_rate * grad\n",
    "      pass\n",
    "\n",
    "      # ================================================================ #\n",
    "      # END YOUR CODE HERE\n",
    "      # ================================================================ #\n",
    "\n",
    "      if verbose and it % 100 == 0:\n",
    "        print('iteration {} / {}: loss {}'.format(it, num_iters, loss))\n",
    "\n",
    "    return loss_history\n",
    "\n",
    "  def predict(self, X):\n",
    "    \"\"\"\n",
    "    Inputs:\n",
    "    - X: N x D array of training data. Each row is a D-dimensional point.\n",
    "\n",
    "    Returns:\n",
    "    - y_pred: Predicted labels for the data in X. y_pred is a 1-dimensional\n",
    "      array of length N, and each element is an integer giving the predicted\n",
    "      class.\n",
    "    \"\"\"\n",
    "    y_pred = np.zeros(X.shape[1])\n",
    "    # ================================================================ #\n",
    "    # YOUR CODE HERE:\n",
    "    #   Predict the labels given the training data.\n",
    "    # ================================================================ #\n",
    "    \n",
    "    A_x = self.W.dot(X.T)\n",
    "    y_pred = np.argmax(A_x,axis = 0)\n",
    "    \n",
    "    pass\n",
    "    # ================================================================ #\n",
    "    # END YOUR CODE HERE\n",
    "    # ================================================================ #\n",
    "\n",
    "    return y_pred\n",
    "\n"
   ]
  }
 ],
 "metadata": {
  "kernelspec": {
   "display_name": "Python 3",
   "language": "python",
   "name": "python3"
  },
  "language_info": {
   "codemirror_mode": {
    "name": "ipython",
    "version": 3
   },
   "file_extension": ".py",
   "mimetype": "text/x-python",
   "name": "python",
   "nbconvert_exporter": "python",
   "pygments_lexer": "ipython3",
   "version": "3.6.2"
  }
 },
 "nbformat": 4,
 "nbformat_minor": 2
}
