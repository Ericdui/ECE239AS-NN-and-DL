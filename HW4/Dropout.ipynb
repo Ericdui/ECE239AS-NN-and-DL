{
 "cells": [
  {
   "cell_type": "markdown",
   "metadata": {},
   "source": [
    "# Dropout\n",
    "\n",
    "In this notebook, you will implement dropout.  Then we will ask you to train a network with batchnorm and dropout, and acheive over 60% accuracy on CIFAR-10.\n",
    "\n",
    "CS231n has built a solid API for building these modular frameworks and training them, and we will use their very well implemented framework as opposed to \"reinventing the wheel.\"  This includes using their Solver, various utility functions, and their layer structure.  This also includes nndl.fc_net, nndl.layers, and nndl.layer_utils.  As in prior assignments, we thank Serena Yeung & Justin Johnson for permission to use code written for the CS 231n class (cs231n.stanford.edu).  "
   ]
  },
  {
   "cell_type": "code",
   "execution_count": 1,
   "metadata": {
    "collapsed": true
   },
   "outputs": [],
   "source": [
    "## Import and setups\n",
    "\n",
    "import time\n",
    "import numpy as np\n",
    "import matplotlib.pyplot as plt\n",
    "from nndl.fc_net import *\n",
    "from nndl.layers import *\n",
    "from cs231n.data_utils import get_CIFAR10_data\n",
    "from cs231n.gradient_check import eval_numerical_gradient, eval_numerical_gradient_array\n",
    "from cs231n.solver import Solver\n",
    "\n",
    "%matplotlib inline\n",
    "plt.rcParams['figure.figsize'] = (10.0, 8.0) # set default size of plots\n",
    "plt.rcParams['image.interpolation'] = 'nearest'\n",
    "plt.rcParams['image.cmap'] = 'gray'\n",
    "\n",
    "# for auto-reloading external modules\n",
    "# see http://stackoverflow.com/questions/1907993/autoreload-of-modules-in-ipython\n",
    "%load_ext autoreload\n",
    "%autoreload 2\n",
    "\n",
    "def rel_error(x, y):\n",
    "  \"\"\" returns relative error \"\"\"\n",
    "  return np.max(np.abs(x - y) / (np.maximum(1e-8, np.abs(x) + np.abs(y))))"
   ]
  },
  {
   "cell_type": "code",
   "execution_count": 2,
   "metadata": {},
   "outputs": [
    {
     "name": "stdout",
     "output_type": "stream",
     "text": [
      "X_train: (49000, 3, 32, 32) \n",
      "y_train: (49000,) \n",
      "X_val: (1000, 3, 32, 32) \n",
      "y_val: (1000,) \n",
      "X_test: (1000, 3, 32, 32) \n",
      "y_test: (1000,) \n"
     ]
    }
   ],
   "source": [
    "# Load the (preprocessed) CIFAR10 data.\n",
    "\n",
    "data = get_CIFAR10_data()\n",
    "for k in data.keys():\n",
    "  print('{}: {} '.format(k, data[k].shape))"
   ]
  },
  {
   "cell_type": "markdown",
   "metadata": {},
   "source": [
    "## Dropout forward pass\n",
    "\n",
    "Implement the training and test time dropout forward pass, `dropout_forward`, in `nndl/layers.py`. After that, test your implementation by running the following cell."
   ]
  },
  {
   "cell_type": "code",
   "execution_count": 3,
   "metadata": {},
   "outputs": [
    {
     "name": "stdout",
     "output_type": "stream",
     "text": [
      "Running tests with p =  0.3\n",
      "Mean of input:  9.99848538813\n",
      "Mean of train-time output:  10.013429877\n",
      "Mean of test-time output:  9.99848538813\n",
      "Fraction of train-time output set to zero:  0.699488\n",
      "Fraction of test-time output set to zero:  0.0\n",
      "Running tests with p =  0.6\n",
      "Mean of input:  9.99848538813\n",
      "Mean of train-time output:  9.99074275927\n",
      "Mean of test-time output:  9.99848538813\n",
      "Fraction of train-time output set to zero:  0.4004\n",
      "Fraction of test-time output set to zero:  0.0\n",
      "Running tests with p =  0.75\n",
      "Mean of input:  9.99848538813\n",
      "Mean of train-time output:  10.0026648864\n",
      "Mean of test-time output:  9.99848538813\n",
      "Fraction of train-time output set to zero:  0.249716\n",
      "Fraction of test-time output set to zero:  0.0\n"
     ]
    }
   ],
   "source": [
    "x = np.random.randn(500, 500) + 10\n",
    "\n",
    "for p in [0.3, 0.6, 0.75]:\n",
    "  out, _ = dropout_forward(x, {'mode': 'train', 'p': p})\n",
    "  out_test, _ = dropout_forward(x, {'mode': 'test', 'p': p})\n",
    "\n",
    "  print('Running tests with p = ', p)\n",
    "  print('Mean of input: ', x.mean())\n",
    "  print('Mean of train-time output: ', out.mean())\n",
    "  print('Mean of test-time output: ', out_test.mean())\n",
    "  print('Fraction of train-time output set to zero: ', (out == 0).mean())\n",
    "  print('Fraction of test-time output set to zero: ', (out_test == 0).mean())"
   ]
  },
  {
   "cell_type": "markdown",
   "metadata": {},
   "source": [
    "## Dropout backward pass\n",
    "\n",
    "Implement the backward pass, `dropout_backward`, in `nndl/layers.py`.  After that, test your gradients by running the following cell:"
   ]
  },
  {
   "cell_type": "code",
   "execution_count": 4,
   "metadata": {},
   "outputs": [
    {
     "name": "stdout",
     "output_type": "stream",
     "text": [
      "dx relative error:  5.44560918091e-11\n"
     ]
    }
   ],
   "source": [
    "x = np.random.randn(10, 10) + 10\n",
    "dout = np.random.randn(*x.shape)\n",
    "\n",
    "dropout_param = {'mode': 'train', 'p': 0.8, 'seed': 123}\n",
    "out, cache = dropout_forward(x, dropout_param)\n",
    "dx = dropout_backward(dout, cache)\n",
    "dx_num = eval_numerical_gradient_array(lambda xx: dropout_forward(xx, dropout_param)[0], x, dout)\n",
    "\n",
    "print('dx relative error: ', rel_error(dx, dx_num))"
   ]
  },
  {
   "cell_type": "markdown",
   "metadata": {},
   "source": [
    "## Implement a fully connected neural network with dropout layers\n",
    "\n",
    "Modify the `FullyConnectedNet()` class in `nndl/fc_net.py` to incorporate dropout.  A dropout layer should be incorporated after every ReLU layer.  Concretely, there shouldn't be a dropout at the output layer since there is no ReLU at the output layer. You will need to modify the class in the following areas:\n",
    "\n",
    "(1) In the forward pass, you will need to incorporate a dropout layer after every relu layer.\n",
    "\n",
    "(2) In the backward pass, you will need to incorporate a dropout backward pass layer.\n",
    "\n",
    "Check your implementation by running the following code.  Our W1 gradient relative error is on the order of 1e-6 (the largest of all the relative errors)."
   ]
  },
  {
   "cell_type": "code",
   "execution_count": 5,
   "metadata": {},
   "outputs": [
    {
     "name": "stdout",
     "output_type": "stream",
     "text": [
      "Running check with dropout =  0\n",
      "Initial loss:  2.3051948274\n",
      "W1 relative error: 2.5272575351926774e-07\n",
      "W2 relative error: 1.5034484923408755e-05\n",
      "W3 relative error: 2.753446897744538e-07\n",
      "b1 relative error: 2.93695746140462e-06\n",
      "b2 relative error: 5.0513392951881574e-08\n",
      "b3 relative error: 1.1740467838205477e-10\n",
      "\n",
      "\n",
      "Running check with dropout =  0.25\n",
      "Initial loss:  2.31264683457\n",
      "W1 relative error: 1.4838546739636279e-08\n",
      "W2 relative error: 2.34278233273103e-10\n",
      "W3 relative error: 3.5644548843987765e-08\n",
      "b1 relative error: 1.5292179223310147e-09\n",
      "b2 relative error: 1.8422707371047494e-10\n",
      "b3 relative error: 8.701800136729388e-11\n",
      "\n",
      "\n",
      "Running check with dropout =  0.5\n",
      "Initial loss:  2.30243758771\n",
      "W1 relative error: 4.553388018985473e-08\n",
      "W2 relative error: 2.9742181064823555e-08\n",
      "W3 relative error: 4.3413246357224405e-07\n",
      "b1 relative error: 1.872463027156301e-08\n",
      "b2 relative error: 5.045590828136527e-09\n",
      "b3 relative error: 7.487013797161614e-11\n",
      "\n",
      "\n"
     ]
    }
   ],
   "source": [
    "N, D, H1, H2, C = 2, 15, 20, 30, 10\n",
    "X = np.random.randn(N, D)\n",
    "y = np.random.randint(C, size=(N,))\n",
    "\n",
    "for dropout in [0, 0.25, 0.5]:\n",
    "  print('Running check with dropout = ', dropout)\n",
    "  model = FullyConnectedNet([H1, H2], input_dim=D, num_classes=C,\n",
    "                            weight_scale=5e-2, dtype=np.float64,\n",
    "                            dropout=dropout, seed=123)\n",
    "\n",
    "  loss, grads = model.loss(X, y)\n",
    "  print('Initial loss: ', loss)\n",
    "\n",
    "  for name in sorted(grads):\n",
    "    f = lambda _: model.loss(X, y)[0]\n",
    "    grad_num = eval_numerical_gradient(f, model.params[name], verbose=False, h=1e-5)\n",
    "    print('{} relative error: {}'.format(name, rel_error(grad_num, grads[name])))\n",
    "  print('\\n')"
   ]
  },
  {
   "cell_type": "markdown",
   "metadata": {},
   "source": [
    "## Dropout as a regularizer\n",
    "\n",
    "In class, we claimed that dropout acts as a regularizer by effectively bagging.  To check this, we will train two small networks, one with dropout and one without dropout.  "
   ]
  },
  {
   "cell_type": "code",
   "execution_count": 6,
   "metadata": {},
   "outputs": [
    {
     "name": "stdout",
     "output_type": "stream",
     "text": [
      "(Iteration 1 / 125) loss: 2.300804\n",
      "(Epoch 0 / 25) train acc: 0.224000; val_acc: 0.167000\n",
      "(Epoch 1 / 25) train acc: 0.182000; val_acc: 0.146000\n",
      "(Epoch 2 / 25) train acc: 0.258000; val_acc: 0.190000\n",
      "(Epoch 3 / 25) train acc: 0.324000; val_acc: 0.260000\n",
      "(Epoch 4 / 25) train acc: 0.372000; val_acc: 0.272000\n",
      "(Epoch 5 / 25) train acc: 0.428000; val_acc: 0.299000\n",
      "(Epoch 6 / 25) train acc: 0.450000; val_acc: 0.320000\n",
      "(Epoch 7 / 25) train acc: 0.474000; val_acc: 0.286000\n",
      "(Epoch 8 / 25) train acc: 0.540000; val_acc: 0.318000\n",
      "(Epoch 9 / 25) train acc: 0.558000; val_acc: 0.319000\n",
      "(Epoch 10 / 25) train acc: 0.614000; val_acc: 0.320000\n",
      "(Epoch 11 / 25) train acc: 0.628000; val_acc: 0.265000\n",
      "(Epoch 12 / 25) train acc: 0.722000; val_acc: 0.333000\n",
      "(Epoch 13 / 25) train acc: 0.744000; val_acc: 0.316000\n",
      "(Epoch 14 / 25) train acc: 0.768000; val_acc: 0.308000\n",
      "(Epoch 15 / 25) train acc: 0.802000; val_acc: 0.297000\n",
      "(Epoch 16 / 25) train acc: 0.858000; val_acc: 0.324000\n",
      "(Epoch 17 / 25) train acc: 0.876000; val_acc: 0.316000\n",
      "(Epoch 18 / 25) train acc: 0.906000; val_acc: 0.313000\n",
      "(Epoch 19 / 25) train acc: 0.910000; val_acc: 0.293000\n",
      "(Epoch 20 / 25) train acc: 0.942000; val_acc: 0.305000\n",
      "(Iteration 101 / 125) loss: 0.189855\n",
      "(Epoch 21 / 25) train acc: 0.966000; val_acc: 0.300000\n",
      "(Epoch 22 / 25) train acc: 0.976000; val_acc: 0.303000\n",
      "(Epoch 23 / 25) train acc: 0.972000; val_acc: 0.285000\n",
      "(Epoch 24 / 25) train acc: 0.990000; val_acc: 0.287000\n",
      "(Epoch 25 / 25) train acc: 0.990000; val_acc: 0.304000\n",
      "(Iteration 1 / 125) loss: 2.301328\n",
      "(Epoch 0 / 25) train acc: 0.158000; val_acc: 0.141000\n",
      "(Epoch 1 / 25) train acc: 0.210000; val_acc: 0.198000\n",
      "(Epoch 2 / 25) train acc: 0.246000; val_acc: 0.210000\n",
      "(Epoch 3 / 25) train acc: 0.274000; val_acc: 0.195000\n",
      "(Epoch 4 / 25) train acc: 0.330000; val_acc: 0.258000\n",
      "(Epoch 5 / 25) train acc: 0.320000; val_acc: 0.244000\n",
      "(Epoch 6 / 25) train acc: 0.334000; val_acc: 0.276000\n",
      "(Epoch 7 / 25) train acc: 0.350000; val_acc: 0.275000\n",
      "(Epoch 8 / 25) train acc: 0.358000; val_acc: 0.281000\n",
      "(Epoch 9 / 25) train acc: 0.392000; val_acc: 0.284000\n",
      "(Epoch 10 / 25) train acc: 0.444000; val_acc: 0.299000\n",
      "(Epoch 11 / 25) train acc: 0.474000; val_acc: 0.298000\n",
      "(Epoch 12 / 25) train acc: 0.504000; val_acc: 0.301000\n",
      "(Epoch 13 / 25) train acc: 0.488000; val_acc: 0.303000\n",
      "(Epoch 14 / 25) train acc: 0.518000; val_acc: 0.315000\n",
      "(Epoch 15 / 25) train acc: 0.546000; val_acc: 0.324000\n",
      "(Epoch 16 / 25) train acc: 0.586000; val_acc: 0.306000\n",
      "(Epoch 17 / 25) train acc: 0.604000; val_acc: 0.320000\n",
      "(Epoch 18 / 25) train acc: 0.628000; val_acc: 0.331000\n",
      "(Epoch 19 / 25) train acc: 0.626000; val_acc: 0.321000\n",
      "(Epoch 20 / 25) train acc: 0.664000; val_acc: 0.336000\n",
      "(Iteration 101 / 125) loss: 1.286374\n",
      "(Epoch 21 / 25) train acc: 0.702000; val_acc: 0.332000\n",
      "(Epoch 22 / 25) train acc: 0.696000; val_acc: 0.339000\n",
      "(Epoch 23 / 25) train acc: 0.722000; val_acc: 0.342000\n",
      "(Epoch 24 / 25) train acc: 0.766000; val_acc: 0.334000\n",
      "(Epoch 25 / 25) train acc: 0.778000; val_acc: 0.334000\n"
     ]
    }
   ],
   "source": [
    "# Train two identical nets, one with dropout and one without\n",
    "\n",
    "num_train = 500\n",
    "small_data = {\n",
    "  'X_train': data['X_train'][:num_train],\n",
    "  'y_train': data['y_train'][:num_train],\n",
    "  'X_val': data['X_val'],\n",
    "  'y_val': data['y_val'],\n",
    "}\n",
    "\n",
    "solvers = {}\n",
    "dropout_choices = [0, 0.6]\n",
    "for dropout in dropout_choices:\n",
    "  model = FullyConnectedNet([100, 100, 100], dropout=dropout)\n",
    "\n",
    "  solver = Solver(model, small_data,\n",
    "                  num_epochs=25, batch_size=100,\n",
    "                  update_rule='adam',\n",
    "                  optim_config={\n",
    "                    'learning_rate': 5e-4,\n",
    "                  },\n",
    "                  verbose=True, print_every=100)\n",
    "  solver.train()\n",
    "  solvers[dropout] = solver"
   ]
  },
  {
   "cell_type": "code",
   "execution_count": 7,
   "metadata": {},
   "outputs": [
    {
     "data": {
      "image/png": "[encoded data removed]",
      "text/plain": [
       "<matplotlib.figure.Figure at 0x10a625eb8>"
      ]
     },
     "metadata": {},
     "output_type": "display_data"
    }
   ],
   "source": [
    "# Plot train and validation accuracies of the two models\n",
    "\n",
    "train_accs = []\n",
    "val_accs = []\n",
    "for dropout in dropout_choices:\n",
    "  solver = solvers[dropout]\n",
    "  train_accs.append(solver.train_acc_history[-1])\n",
    "  val_accs.append(solver.val_acc_history[-1])\n",
    "\n",
    "plt.subplot(3, 1, 1)\n",
    "for dropout in dropout_choices:\n",
    "  plt.plot(solvers[dropout].train_acc_history, 'o', label='%.2f dropout' % dropout)\n",
    "plt.title('Train accuracy')\n",
    "plt.xlabel('Epoch')\n",
    "plt.ylabel('Accuracy')\n",
    "plt.legend(ncol=2, loc='lower right')\n",
    "  \n",
    "plt.subplot(3, 1, 2)\n",
    "for dropout in dropout_choices:\n",
    "  plt.plot(solvers[dropout].val_acc_history, 'o', label='%.2f dropout' % dropout)\n",
    "plt.title('Val accuracy')\n",
    "plt.xlabel('Epoch')\n",
    "plt.ylabel('Accuracy')\n",
    "plt.legend(ncol=2, loc='lower right')\n",
    "\n",
    "plt.gcf().set_size_inches(15, 15)\n",
    "plt.show()"
   ]
  },
  {
   "cell_type": "markdown",
   "metadata": {},
   "source": [
    "## Question\n",
    "\n",
    "Based off the results of this experiment, is dropout performing regularization?  Explain your answer."
   ]
  },
  {
   "cell_type": "markdown",
   "metadata": {},
   "source": [
    "## Answer:\n"
   ]
  },
  {
   "cell_type": "markdown",
   "metadata": {},
   "source": [
    "Yes, dropout performes regularization. Regularization solves the overfitting problem. Dropout prevent overfitting. If using dropout, the larger dropout parameter we use the gap accuracy between training and validation would be smaller. And this is how dropout performes regularization."
   ]
  },
  {
   "cell_type": "markdown",
   "metadata": {},
   "source": [
    "## Final part of the assignment\n",
    "\n",
    "Get over 60% validation accuracy on CIFAR-10 by using the layers you have implemented.  You will be graded according to the following equation:\n",
    "\n",
    "min(floor((X - 32%)) / 28%, 1) \n",
    "where if you get 60% or higher validation accuracy, you get full points."
   ]
  },
  {
   "cell_type": "code",
   "execution_count": 19,
   "metadata": {
    "scrolled": false
   },
   "outputs": [
    {
     "name": "stdout",
     "output_type": "stream",
     "text": [
      "(Iteration 1 / 12250) loss: 3.341094\n",
      "(Epoch 0 / 25) train acc: 0.224000; val_acc: 0.191000\n",
      "(Iteration 101 / 12250) loss: 2.265265\n",
      "(Iteration 201 / 12250) loss: 2.002002\n",
      "(Iteration 301 / 12250) loss: 2.093111\n",
      "(Iteration 401 / 12250) loss: 2.177479\n",
      "(Epoch 1 / 25) train acc: 0.380000; val_acc: 0.410000\n",
      "(Iteration 501 / 12250) loss: 2.104399\n",
      "(Iteration 601 / 12250) loss: 2.311215\n",
      "(Iteration 701 / 12250) loss: 2.270188\n",
      "(Iteration 801 / 12250) loss: 2.268386\n",
      "(Iteration 901 / 12250) loss: 1.991902\n",
      "(Epoch 2 / 25) train acc: 0.392000; val_acc: 0.402000\n",
      "(Iteration 1001 / 12250) loss: 2.103327\n",
      "(Iteration 1101 / 12250) loss: 2.209450\n",
      "(Iteration 1201 / 12250) loss: 2.187809\n",
      "(Iteration 1301 / 12250) loss: 1.996487\n",
      "(Iteration 1401 / 12250) loss: 2.038392\n",
      "(Epoch 3 / 25) train acc: 0.435000; val_acc: 0.416000\n",
      "(Iteration 1501 / 12250) loss: 1.979612\n",
      "(Iteration 1601 / 12250) loss: 2.268939\n",
      "(Iteration 1701 / 12250) loss: 2.313607\n",
      "(Iteration 1801 / 12250) loss: 1.949702\n",
      "(Iteration 1901 / 12250) loss: 1.910812\n",
      "(Epoch 4 / 25) train acc: 0.390000; val_acc: 0.430000\n",
      "(Iteration 2001 / 12250) loss: 2.136121\n",
      "(Iteration 2101 / 12250) loss: 1.944081\n",
      "(Iteration 2201 / 12250) loss: 2.071577\n",
      "(Iteration 2301 / 12250) loss: 2.076350\n",
      "(Iteration 2401 / 12250) loss: 1.988179\n",
      "(Epoch 5 / 25) train acc: 0.437000; val_acc: 0.444000\n",
      "(Iteration 2501 / 12250) loss: 1.944566\n",
      "(Iteration 2601 / 12250) loss: 1.972893\n",
      "(Iteration 2701 / 12250) loss: 1.932058\n",
      "(Iteration 2801 / 12250) loss: 1.948710\n",
      "(Iteration 2901 / 12250) loss: 2.100341\n",
      "(Epoch 6 / 25) train acc: 0.458000; val_acc: 0.462000\n",
      "(Iteration 3001 / 12250) loss: 1.815430\n",
      "(Iteration 3101 / 12250) loss: 1.947957\n",
      "(Iteration 3201 / 12250) loss: 1.944672\n",
      "(Iteration 3301 / 12250) loss: 1.854356\n",
      "(Iteration 3401 / 12250) loss: 1.902213\n",
      "(Epoch 7 / 25) train acc: 0.480000; val_acc: 0.465000\n",
      "(Iteration 3501 / 12250) loss: 1.787568\n",
      "(Iteration 3601 / 12250) loss: 1.951751\n",
      "(Iteration 3701 / 12250) loss: 1.846011\n",
      "(Iteration 3801 / 12250) loss: 1.897349\n",
      "(Iteration 3901 / 12250) loss: 1.911293\n",
      "(Epoch 8 / 25) train acc: 0.476000; val_acc: 0.458000\n",
      "(Iteration 4001 / 12250) loss: 1.791853\n",
      "(Iteration 4101 / 12250) loss: 1.972625\n",
      "(Iteration 4201 / 12250) loss: 1.857966\n",
      "(Iteration 4301 / 12250) loss: 1.800144\n",
      "(Iteration 4401 / 12250) loss: 1.937093\n",
      "(Epoch 9 / 25) train acc: 0.493000; val_acc: 0.451000\n",
      "(Iteration 4501 / 12250) loss: 1.929524\n",
      "(Iteration 4601 / 12250) loss: 1.872480\n",
      "(Iteration 4701 / 12250) loss: 1.807190\n",
      "(Iteration 4801 / 12250) loss: 1.843666\n",
      "(Epoch 10 / 25) train acc: 0.448000; val_acc: 0.474000\n",
      "(Iteration 4901 / 12250) loss: 1.739707\n",
      "(Iteration 5001 / 12250) loss: 1.960894\n",
      "(Iteration 5101 / 12250) loss: 1.935046\n",
      "(Iteration 5201 / 12250) loss: 1.931114\n",
      "(Iteration 5301 / 12250) loss: 1.843085\n",
      "(Epoch 11 / 25) train acc: 0.501000; val_acc: 0.498000\n",
      "(Iteration 5401 / 12250) loss: 1.846354\n",
      "(Iteration 5501 / 12250) loss: 1.761658\n",
      "(Iteration 5601 / 12250) loss: 1.949753\n",
      "(Iteration 5701 / 12250) loss: 1.853037\n",
      "(Iteration 5801 / 12250) loss: 1.667343\n",
      "(Epoch 12 / 25) train acc: 0.517000; val_acc: 0.491000\n",
      "(Iteration 5901 / 12250) loss: 1.828700\n",
      "(Iteration 6001 / 12250) loss: 1.982410\n",
      "(Iteration 6101 / 12250) loss: 1.925556\n",
      "(Iteration 6201 / 12250) loss: 1.634135\n",
      "(Iteration 6301 / 12250) loss: 1.822596\n",
      "(Epoch 13 / 25) train acc: 0.505000; val_acc: 0.504000\n",
      "(Iteration 6401 / 12250) loss: 1.697313\n",
      "(Iteration 6501 / 12250) loss: 1.686782\n",
      "(Iteration 6601 / 12250) loss: 1.718462\n",
      "(Iteration 6701 / 12250) loss: 1.698689\n",
      "(Iteration 6801 / 12250) loss: 1.788148\n",
      "(Epoch 14 / 25) train acc: 0.542000; val_acc: 0.490000\n",
      "(Iteration 6901 / 12250) loss: 1.624421\n",
      "(Iteration 7001 / 12250) loss: 1.671633\n",
      "(Iteration 7101 / 12250) loss: 1.655683\n",
      "(Iteration 7201 / 12250) loss: 1.827121\n",
      "(Iteration 7301 / 12250) loss: 1.758250\n",
      "(Epoch 15 / 25) train acc: 0.535000; val_acc: 0.489000\n",
      "(Iteration 7401 / 12250) loss: 1.648151\n",
      "(Iteration 7501 / 12250) loss: 1.626035\n",
      "(Iteration 7601 / 12250) loss: 1.647914\n",
      "(Iteration 7701 / 12250) loss: 1.645132\n",
      "(Iteration 7801 / 12250) loss: 1.635987\n",
      "(Epoch 16 / 25) train acc: 0.561000; val_acc: 0.524000\n",
      "(Iteration 7901 / 12250) loss: 1.489249\n",
      "(Iteration 8001 / 12250) loss: 1.593682\n",
      "(Iteration 8101 / 12250) loss: 1.790072\n",
      "(Iteration 8201 / 12250) loss: 1.560993\n",
      "(Iteration 8301 / 12250) loss: 1.437937\n",
      "(Epoch 17 / 25) train acc: 0.603000; val_acc: 0.535000\n",
      "(Iteration 8401 / 12250) loss: 1.477969\n",
      "(Iteration 8501 / 12250) loss: 1.463336\n",
      "(Iteration 8601 / 12250) loss: 1.615284\n",
      "(Iteration 8701 / 12250) loss: 1.600061\n",
      "(Iteration 8801 / 12250) loss: 1.642810\n",
      "(Epoch 18 / 25) train acc: 0.574000; val_acc: 0.530000\n",
      "(Iteration 8901 / 12250) loss: 1.480518\n",
      "(Iteration 9001 / 12250) loss: 1.440870\n",
      "(Iteration 9101 / 12250) loss: 1.683818\n",
      "(Iteration 9201 / 12250) loss: 1.358424\n",
      "(Iteration 9301 / 12250) loss: 1.506615\n",
      "(Epoch 19 / 25) train acc: 0.571000; val_acc: 0.522000\n",
      "(Iteration 9401 / 12250) loss: 1.593539\n",
      "(Iteration 9501 / 12250) loss: 1.656897\n",
      "(Iteration 9601 / 12250) loss: 1.582942\n",
      "(Iteration 9701 / 12250) loss: 1.603678\n",
      "(Epoch 20 / 25) train acc: 0.576000; val_acc: 0.546000\n",
      "(Iteration 9801 / 12250) loss: 1.501019\n",
      "(Iteration 9901 / 12250) loss: 1.818967\n",
      "(Iteration 10001 / 12250) loss: 1.369365\n",
      "(Iteration 10101 / 12250) loss: 1.442054\n",
      "(Iteration 10201 / 12250) loss: 1.496375\n",
      "(Epoch 21 / 25) train acc: 0.587000; val_acc: 0.538000\n",
      "(Iteration 10301 / 12250) loss: 1.499933\n",
      "(Iteration 10401 / 12250) loss: 1.440869\n",
      "(Iteration 10501 / 12250) loss: 1.439920\n",
      "(Iteration 10601 / 12250) loss: 1.520156\n",
      "(Iteration 10701 / 12250) loss: 1.532864\n",
      "(Epoch 22 / 25) train acc: 0.577000; val_acc: 0.567000\n",
      "(Iteration 10801 / 12250) loss: 1.520932\n",
      "(Iteration 10901 / 12250) loss: 1.485156\n",
      "(Iteration 11001 / 12250) loss: 1.353703\n",
      "(Iteration 11101 / 12250) loss: 1.505443\n",
      "(Iteration 11201 / 12250) loss: 1.274444\n",
      "(Epoch 23 / 25) train acc: 0.610000; val_acc: 0.552000\n",
      "(Iteration 11301 / 12250) loss: 1.493849\n",
      "(Iteration 11401 / 12250) loss: 1.362670\n",
      "(Iteration 11501 / 12250) loss: 1.305641\n",
      "(Iteration 11601 / 12250) loss: 1.531468\n",
      "(Iteration 11701 / 12250) loss: 1.281953\n",
      "(Epoch 24 / 25) train acc: 0.619000; val_acc: 0.563000\n",
      "(Iteration 11801 / 12250) loss: 1.271716\n",
      "(Iteration 11901 / 12250) loss: 1.469880\n",
      "(Iteration 12001 / 12250) loss: 1.461377\n",
      "(Iteration 12101 / 12250) loss: 1.228178\n",
      "(Iteration 12201 / 12250) loss: 1.374909\n",
      "(Epoch 25 / 25) train acc: 0.627000; val_acc: 0.557000\n"
     ]
    }
   ],
   "source": [
    "# ================================================================ #\n",
    "# YOUR CODE HERE:\n",
    "#   Implement a FC-net that achieves at least 60% validation accuracy\n",
    "#   on CIFAR-10.\n",
    "# ================================================================ #\n",
    "\n",
    "model = FullyConnectedNet([500, 500, 500], \n",
    "                          weight_scale = 1e-2, \n",
    "                          use_batchnorm = True, \n",
    "                          dropout=0.7,\n",
    "                          reg = 1e-2)\n",
    "\n",
    "solver = Solver(model, data,\n",
    "              num_epochs=25, batch_size=100,\n",
    "              update_rule='adam',\n",
    "              optim_config={\n",
    "                'learning_rate': 1e-3,\n",
    "              },\n",
    "              lr_decay = 0.9,\n",
    "              verbose=True, print_every=100)\n",
    "\n",
    "solver.train()\n",
    "solvers[dropout] = solver\n",
    "\n",
    "# ================================================================ #\n",
    "# END YOUR CODE HERE\n",
    "# ================================================================ #\n"
   ]
  },
  {
   "cell_type": "code",
   "execution_count": 20,
   "metadata": {},
   "outputs": [
    {
     "name": "stdout",
     "output_type": "stream",
     "text": [
      "Validation set accuracy: 0.577\n",
      "Test set accuracy: 0.54\n"
     ]
    }
   ],
   "source": [
    "y_test_pred = np.argmax(model.loss(data['X_test']), axis=1)\n",
    "y_val_pred = np.argmax(model.loss(data['X_val']), axis=1)\n",
    "print('Validation set accuracy: {}'.format(np.mean(y_val_pred == data['y_val'])))\n",
    "print('Test set accuracy: {}'.format(np.mean(y_test_pred == data['y_test'])))"
   ]
  },
  {
   "cell_type": "code",
   "execution_count": null,
   "metadata": {
    "collapsed": true
   },
   "outputs": [],
   "source": []
  }
 ],
 "metadata": {
  "kernelspec": {
   "display_name": "Python 3",
   "language": "python",
   "name": "python3"
  },
  "language_info": {
   "codemirror_mode": {
    "name": "ipython",
    "version": 3
   },
   "file_extension": ".py",
   "mimetype": "text/x-python",
   "name": "python",
   "nbconvert_exporter": "python",
   "pygments_lexer": "ipython3",
   "version": "3.6.2"
  }
 },
 "nbformat": 4,
 "nbformat_minor": 2
}
